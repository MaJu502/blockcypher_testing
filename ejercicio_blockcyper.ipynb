{
 "cells": [
  {
   "cell_type": "markdown",
   "metadata": {},
   "source": [
    "# Block Cipher\n",
    "Marco Jurado 20308"
   ]
  },
  {
   "cell_type": "code",
   "execution_count": 79,
   "metadata": {},
   "outputs": [],
   "source": [
    "#pip install pycryptodome"
   ]
  },
  {
   "cell_type": "code",
   "execution_count": 80,
   "metadata": {},
   "outputs": [],
   "source": [
    "from Crypto.Cipher import DES, DES3, AES\n",
    "from Crypto.Random import get_random_bytes\n",
    "from Crypto.Util.Padding import pad, unpad"
   ]
  },
  {
   "cell_type": "code",
   "execution_count": 81,
   "metadata": {},
   "outputs": [],
   "source": [
    "inputTexto = 'Hola este es el mensaje que buscas cifrar, por ejemplo hola mundo. att marco'\n",
    "inputTexto = inputTexto.encode()  # Convertir str a bytes\n"
   ]
  },
  {
   "cell_type": "markdown",
   "metadata": {},
   "source": [
    "## Función DES\n",
    "con pycryptodome"
   ]
  },
  {
   "cell_type": "code",
   "execution_count": 82,
   "metadata": {},
   "outputs": [],
   "source": [
    "def des_encrypt(x, y):\n",
    "    des = DES.new(y, DES.MODE_ECB)\n",
    "    encrypted_text = des.encrypt(pad(x, DES.block_size))\n",
    "    return encrypted_text.hex()\n",
    "\n",
    "def des_decrypt(x, y):\n",
    "    des = DES.new(y, DES.MODE_ECB)\n",
    "    decrypted_text = unpad(des.decrypt(bytes.fromhex(x)), DES.block_size)\n",
    "    return decrypted_text"
   ]
  },
  {
   "cell_type": "code",
   "execution_count": 83,
   "metadata": {},
   "outputs": [
    {
     "name": "stdout",
     "output_type": "stream",
     "text": [
      "Texto cifrado DES: f8539373422da98a59c71d432a25fdc85c02ac151ae4222499356339ba706e11c615b2d6e54686ec369d4d96d2481cab3e5e8c892955e03f221d4e9ef990dc058fdc154c8af64b8a23da306a7673a035\n"
     ]
    }
   ],
   "source": [
    "llaveDES = get_random_bytes(8)\n",
    "restultado_cfiradoDES = des_encrypt(inputTexto, llaveDES)\n",
    "print(f\"Texto cifrado DES: {restultado_cfiradoDES}\")"
   ]
  },
  {
   "cell_type": "code",
   "execution_count": 84,
   "metadata": {},
   "outputs": [
    {
     "name": "stdout",
     "output_type": "stream",
     "text": [
      "Texto descifrado DES: b'Hola este es el mensaje que buscas cifrar, por ejemplo hola mundo. att marco'\n"
     ]
    }
   ],
   "source": [
    "resultado_descifradoDES = des_decrypt(restultado_cfiradoDES, llaveDES)\n",
    "print(f\"Texto descifrado DES: {resultado_descifradoDES}\")"
   ]
  },
  {
   "cell_type": "markdown",
   "metadata": {},
   "source": [
    "## Función 3DES"
   ]
  },
  {
   "cell_type": "code",
   "execution_count": 85,
   "metadata": {},
   "outputs": [],
   "source": [
    "def des3_encrypt(x, y):\n",
    "    des3 = DES3.new(y, DES3.MODE_ECB)\n",
    "    encrypted_text = des3.encrypt(pad(x, DES3.block_size))\n",
    "    return encrypted_text.hex()\n",
    "\n",
    "def des3_decrypt(x, y):\n",
    "    des3 = DES3.new(y, DES3.MODE_ECB)\n",
    "    decrypted_text = unpad(des3.decrypt(bytes.fromhex(x)), DES3.block_size)\n",
    "    return decrypted_text"
   ]
  },
  {
   "cell_type": "code",
   "execution_count": 86,
   "metadata": {},
   "outputs": [
    {
     "name": "stdout",
     "output_type": "stream",
     "text": [
      "Texto cifrado 3DES: b078764d1ae707a0ef6166c135a931e21114d7a570ad9b4bcf0955d07e7d15c625305ea203add8b9f559eebea250d2c87ced3856ef41c3dbe946e7c60c50b84b28f95735729be813d1300d7662068633\n"
     ]
    }
   ],
   "source": [
    "llaveDES3 = DES3.adjust_key_parity(get_random_bytes(24))\n",
    "resultado_cifradoDES3 = des3_encrypt(inputTexto, llaveDES3)\n",
    "print(f\"Texto cifrado 3DES: {resultado_cifradoDES3}\")"
   ]
  },
  {
   "cell_type": "code",
   "execution_count": 87,
   "metadata": {},
   "outputs": [
    {
     "name": "stdout",
     "output_type": "stream",
     "text": [
      "Texto descifrado 3DES: b'Hola este es el mensaje que buscas cifrar, por ejemplo hola mundo. att marco'\n"
     ]
    }
   ],
   "source": [
    "resultado_descifradoDES3 = des3_decrypt(resultado_cifradoDES3, llaveDES3)\n",
    "print(f\"Texto descifrado 3DES: {resultado_descifradoDES3}\")"
   ]
  },
  {
   "cell_type": "markdown",
   "metadata": {},
   "source": [
    "## Función AES con CBC"
   ]
  },
  {
   "cell_type": "code",
   "execution_count": 88,
   "metadata": {},
   "outputs": [],
   "source": [
    "def aes_cbc_encrypt(x, y):\n",
    "    cipher = AES.new(y, AES.MODE_CBC)\n",
    "    ct_bytes = cipher.encrypt(pad(x, AES.block_size))\n",
    "    iv = cipher.iv\n",
    "    return iv, ct_bytes\n",
    "\n",
    "def aes_cbc_decrypt(iv, ct_bytes, y):\n",
    "    cipher = AES.new(y, AES.MODE_CBC, iv)\n",
    "    pt = unpad(cipher.decrypt(ct_bytes), AES.block_size)\n",
    "    return pt"
   ]
  },
  {
   "cell_type": "code",
   "execution_count": 89,
   "metadata": {},
   "outputs": [
    {
     "name": "stdout",
     "output_type": "stream",
     "text": [
      "Cifrado CBC: b\"Q\\x10l\\x8at\\xb7J\\x86\\xc1\\x10\\xb0\\xccL\\x9f\\x0fw}\\x80p\\xfd(U\\xeb\\xd6[i\\x19\\xf1\\xf0\\x89\\xec(j\\x18\\xc7\\xa8C'\\xf6H\\xfb\\xe7*i\\xa7s^\\x9a\\xc8\\x1e&\\xebA\\xc4\\xdb:y\\x8c\\x0fe\\xed\\xa6\\xc6c-)|\\\\\\xd2D\\xb84\\nu\\x0e\\x84\\xf8\\xc9&\\n\"\n",
      "Descifrado CBC: b'Hola este es el mensaje que buscas cifrar, por ejemplo hola mundo. att marco'\n"
     ]
    }
   ],
   "source": [
    "llaveAES = get_random_bytes(32)  #  de 256 bits\n",
    "iv, ciphertext_cbc = aes_cbc_encrypt(inputTexto, llaveAES)\n",
    "print(\"Cifrado CBC:\", ciphertext_cbc)\n",
    "decrypted_text_cbc = aes_cbc_decrypt(iv, ciphertext_cbc, llaveAES)\n",
    "print(\"Descifrado CBC:\", decrypted_text_cbc)"
   ]
  },
  {
   "cell_type": "markdown",
   "metadata": {},
   "source": [
    "## Función AES con ECB"
   ]
  },
  {
   "cell_type": "code",
   "execution_count": 90,
   "metadata": {},
   "outputs": [],
   "source": [
    "def aes_ecb_encrypt(x, y):\n",
    "    cipher = AES.new(y, AES.MODE_ECB)\n",
    "    ct_bytes = cipher.encrypt(pad(x, AES.block_size))\n",
    "    return ct_bytes\n",
    "\n",
    "def aes_ecb_decrypt(ct_bytes, y):\n",
    "    cipher = AES.new(y, AES.MODE_ECB)\n",
    "    pt = unpad(cipher.decrypt(ct_bytes), AES.block_size)\n",
    "    return pt"
   ]
  },
  {
   "cell_type": "code",
   "execution_count": 91,
   "metadata": {},
   "outputs": [
    {
     "name": "stdout",
     "output_type": "stream",
     "text": [
      "Cifrado ECB: b'\\xff$\\x080-\\xbe%\\x163\\xdc\\xa8Z\\x1b\\x1e\\x18N\\xc3\\xa3\\xc6k)a\\xf6\\x93/\\xb8\\x03\\xa0h\\x9d\\xf5_ \\xdf\\xc4:\\x16\\x01^\\xa2\\xf9\\xc2\\xc8\\xb2\\xb3\\xec\\x83\\xc9\\xfc\\xe3\\xe3+I\\xe2\\xee<\\x83O\\r\\xbb\\xa7\\xf4,}I;\\xd6\\xba\\xed\\x82\\xf6\\xeb)V\\xd5\\xdc\\x06]Y\\xb6'\n",
      "Descifrado ECB: b'Hola este es el mensaje que buscas cifrar, por ejemplo hola mundo. att marco'\n"
     ]
    }
   ],
   "source": [
    "ciphertext_ecb = aes_ecb_encrypt(inputTexto, llaveAES)\n",
    "print(\"Cifrado ECB:\", ciphertext_ecb)\n",
    "decrypted_text_ecb = aes_ecb_decrypt(ciphertext_ecb, llaveAES)\n",
    "print(\"Descifrado ECB:\", decrypted_text_ecb)"
   ]
  },
  {
   "cell_type": "markdown",
   "metadata": {},
   "source": [
    "## CBS Y ECB a una imagen\n",
    "con imagen logo-uvg.webp"
   ]
  },
  {
   "cell_type": "code",
   "execution_count": null,
   "metadata": {},
   "outputs": [],
   "source": []
  }
 ],
 "metadata": {
  "kernelspec": {
   "display_name": "Python 3",
   "language": "python",
   "name": "python3"
  },
  "language_info": {
   "codemirror_mode": {
    "name": "ipython",
    "version": 3
   },
   "file_extension": ".py",
   "mimetype": "text/x-python",
   "name": "python",
   "nbconvert_exporter": "python",
   "pygments_lexer": "ipython3",
   "version": "3.10.5"
  }
 },
 "nbformat": 4,
 "nbformat_minor": 2
}
