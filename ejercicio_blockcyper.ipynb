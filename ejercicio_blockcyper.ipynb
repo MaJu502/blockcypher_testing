{
 "cells": [
  {
   "cell_type": "markdown",
   "metadata": {},
   "source": [
    "# Block Cipher\n",
    "Marco Jurado 20308"
   ]
  },
  {
   "cell_type": "code",
   "execution_count": 279,
   "metadata": {},
   "outputs": [],
   "source": [
    "#pip install pycryptodome"
   ]
  },
  {
   "cell_type": "code",
   "execution_count": 280,
   "metadata": {},
   "outputs": [],
   "source": [
    "from Crypto.Cipher import DES, DES3, AES\n",
    "from Crypto.Random import get_random_bytes\n",
    "from Crypto.Util.Padding import pad, unpad\n",
    "from PIL import Image\n",
    "import numpy as np\n",
    "import math"
   ]
  },
  {
   "cell_type": "code",
   "execution_count": 281,
   "metadata": {},
   "outputs": [],
   "source": [
    "inputTexto = 'Hola este es el mensaje que buscas cifrar, por ejemplo hola mundo. att marco'\n",
    "inputTexto = inputTexto.encode()  # Convertir str a bytes\n"
   ]
  },
  {
   "cell_type": "markdown",
   "metadata": {},
   "source": [
    "## Función DES\n",
    "con pycryptodome"
   ]
  },
  {
   "cell_type": "code",
   "execution_count": 282,
   "metadata": {},
   "outputs": [],
   "source": [
    "def des_encrypt(x, y):\n",
    "    des = DES.new(y, DES.MODE_ECB)\n",
    "    encrypted_text = des.encrypt(pad(x, DES.block_size))\n",
    "    return encrypted_text.hex()\n",
    "\n",
    "def des_decrypt(x, y):\n",
    "    des = DES.new(y, DES.MODE_ECB)\n",
    "    decrypted_text = unpad(des.decrypt(bytes.fromhex(x)), DES.block_size)\n",
    "    return decrypted_text"
   ]
  },
  {
   "cell_type": "code",
   "execution_count": 283,
   "metadata": {},
   "outputs": [
    {
     "name": "stdout",
     "output_type": "stream",
     "text": [
      "Texto cifrado DES: 3aeb16c59109d81e54e5d72542064805e72f0d4b9e275eea45de4e25486709ea744302b6da42e30855604393f6b6e22f70e962608ec0e50bc1f668a12bd72358ed155666dccdacf35f61a6ac9817e8d7\n"
     ]
    }
   ],
   "source": [
    "llaveDES = get_random_bytes(8)\n",
    "restultado_cfiradoDES = des_encrypt(inputTexto, llaveDES)\n",
    "print(f\"Texto cifrado DES: {restultado_cfiradoDES}\")"
   ]
  },
  {
   "cell_type": "code",
   "execution_count": 284,
   "metadata": {},
   "outputs": [
    {
     "name": "stdout",
     "output_type": "stream",
     "text": [
      "Texto descifrado DES: b'Hola este es el mensaje que buscas cifrar, por ejemplo hola mundo. att marco'\n"
     ]
    }
   ],
   "source": [
    "resultado_descifradoDES = des_decrypt(restultado_cfiradoDES, llaveDES)\n",
    "print(f\"Texto descifrado DES: {resultado_descifradoDES}\")"
   ]
  },
  {
   "cell_type": "markdown",
   "metadata": {},
   "source": [
    "## Función 3DES"
   ]
  },
  {
   "cell_type": "code",
   "execution_count": 285,
   "metadata": {},
   "outputs": [],
   "source": [
    "def des3_encrypt(x, y):\n",
    "    des3 = DES3.new(y, DES3.MODE_ECB)\n",
    "    encrypted_text = des3.encrypt(pad(x, DES3.block_size))\n",
    "    return encrypted_text.hex()\n",
    "\n",
    "def des3_decrypt(x, y):\n",
    "    des3 = DES3.new(y, DES3.MODE_ECB)\n",
    "    decrypted_text = unpad(des3.decrypt(bytes.fromhex(x)), DES3.block_size)\n",
    "    return decrypted_text"
   ]
  },
  {
   "cell_type": "code",
   "execution_count": 286,
   "metadata": {},
   "outputs": [
    {
     "name": "stdout",
     "output_type": "stream",
     "text": [
      "Texto cifrado 3DES: 1ecac93bd1b466e8279243fdba8e6b246e1a18f7a28198fc0206223ddb13f4026c8f0ca115ac9ae98ebd33fefbc2bafacbd576b027bfd54b983b94810c31574c98f36b255939cdb855e2017c47f171a0\n"
     ]
    }
   ],
   "source": [
    "llaveDES3 = DES3.adjust_key_parity(get_random_bytes(24))\n",
    "resultado_cifradoDES3 = des3_encrypt(inputTexto, llaveDES3)\n",
    "print(f\"Texto cifrado 3DES: {resultado_cifradoDES3}\")"
   ]
  },
  {
   "cell_type": "code",
   "execution_count": 287,
   "metadata": {},
   "outputs": [
    {
     "name": "stdout",
     "output_type": "stream",
     "text": [
      "Texto descifrado 3DES: b'Hola este es el mensaje que buscas cifrar, por ejemplo hola mundo. att marco'\n"
     ]
    }
   ],
   "source": [
    "resultado_descifradoDES3 = des3_decrypt(resultado_cifradoDES3, llaveDES3)\n",
    "print(f\"Texto descifrado 3DES: {resultado_descifradoDES3}\")"
   ]
  },
  {
   "cell_type": "markdown",
   "metadata": {},
   "source": [
    "## Función AES con CBC"
   ]
  },
  {
   "cell_type": "code",
   "execution_count": 288,
   "metadata": {},
   "outputs": [],
   "source": [
    "def aes_cbc_encrypt(x, y):\n",
    "    cipher = AES.new(y, AES.MODE_CBC)\n",
    "    ct_bytes = cipher.encrypt(pad(x, AES.block_size))\n",
    "    iv = cipher.iv\n",
    "    return iv, ct_bytes\n",
    "\n",
    "def aes_cbc_decrypt(iv, ct_bytes, y):\n",
    "    cipher = AES.new(y, AES.MODE_CBC, iv)\n",
    "    pt = unpad(cipher.decrypt(ct_bytes), AES.block_size)\n",
    "    return pt"
   ]
  },
  {
   "cell_type": "code",
   "execution_count": 289,
   "metadata": {},
   "outputs": [
    {
     "name": "stdout",
     "output_type": "stream",
     "text": [
      "Cifrado CBC: b'\\xa3d\\\\a\\xa1\\xfa\\x84\\r\\x90E\\x8a.\\xa1\\xa7(\\x05\\xda\\xf2\\xab\\xf6\\x89z\\x19.\\x15}yC\\xeb\\xfe\\x91\\x8d:[`\\xabN\\xd4\\x8d(\\x98\\xf6\\xbds\\x94\\xa7E\\xfb\\xf3\\x8c\\xe5S\\x85\\x7fW\\x01\\x98\\xca@\\x06D\\xa7\\xcfR\\xca\\xdc\\xd3\\x15d\\xd1@\\xefl\\xc7\\xb1u\\x91t\\xa5\\x01'\n",
      "Descifrado CBC: b'Hola este es el mensaje que buscas cifrar, por ejemplo hola mundo. att marco'\n"
     ]
    }
   ],
   "source": [
    "llaveAES = get_random_bytes(32)  #  de 256 bits\n",
    "iv, ciphertext_cbc = aes_cbc_encrypt(inputTexto, llaveAES)\n",
    "print(\"Cifrado CBC:\", ciphertext_cbc)\n",
    "decrypted_text_cbc = aes_cbc_decrypt(iv, ciphertext_cbc, llaveAES)\n",
    "print(\"Descifrado CBC:\", decrypted_text_cbc)"
   ]
  },
  {
   "cell_type": "markdown",
   "metadata": {},
   "source": [
    "## Función AES con ECB"
   ]
  },
  {
   "cell_type": "code",
   "execution_count": 290,
   "metadata": {},
   "outputs": [],
   "source": [
    "def aes_ecb_encrypt(x, y):\n",
    "    cipher = AES.new(y, AES.MODE_ECB)\n",
    "    ct_bytes = cipher.encrypt(pad(x, AES.block_size))\n",
    "    return ct_bytes\n",
    "\n",
    "def aes_ecb_decrypt(ct_bytes, y):\n",
    "    cipher = AES.new(y, AES.MODE_ECB)\n",
    "    pt = unpad(cipher.decrypt(ct_bytes), AES.block_size)\n",
    "    return pt"
   ]
  },
  {
   "cell_type": "code",
   "execution_count": 291,
   "metadata": {},
   "outputs": [
    {
     "name": "stdout",
     "output_type": "stream",
     "text": [
      "Cifrado ECB: b'\\xdaX\\xa9<(\\xa7\\xc4A\\t3\\x85\\x00!O\\x18\\xcbi\\xfab\\xc9\\x15_\\xd6\\xa2@0G\\x04\\xc0v\\x81\\xefa\\x8d\\x92\\xc1{\\xea\\xde\\xe2\\xbe\\x95\\x8d(\\xac\\xdf\\x80\\xedV\\xbe%+\\xd9\\xd1E\\x07\\xef\\xc7\\x0f\\xa8\\xc4\\x06\\x17\\xd4\\xe2!\\xa1\\xaf\\x1e\\xd7v\\x0c;x\\xa5\\x8a\\xb0 \\xc8\\x9b'\n",
      "Descifrado ECB: b'Hola este es el mensaje que buscas cifrar, por ejemplo hola mundo. att marco'\n"
     ]
    }
   ],
   "source": [
    "ciphertext_ecb = aes_ecb_encrypt(inputTexto, llaveAES)\n",
    "print(\"Cifrado ECB:\", ciphertext_ecb)\n",
    "decrypted_text_ecb = aes_ecb_decrypt(ciphertext_ecb, llaveAES)\n",
    "print(\"Descifrado ECB:\", decrypted_text_ecb)"
   ]
  },
  {
   "cell_type": "markdown",
   "metadata": {},
   "source": [
    "## CBS Y ECB a una imagen\n",
    "con imagen logo-uvg.webp"
   ]
  },
  {
   "cell_type": "code",
   "execution_count": 292,
   "metadata": {},
   "outputs": [],
   "source": [
    "def encrypt_image(x, y, modo_cifrado=AES.MODE_CBC):\n",
    "    img = Image.open(x).convert(\"RGB\")\n",
    "    bytes_de_la_imagen = img.tobytes()\n",
    "    ancho, alto = img.size\n",
    "\n",
    "    if modo_cifrado == AES.MODE_CBC:\n",
    "        iv = get_random_bytes(AES.block_size)\n",
    "        cipher = AES.new(y, modo_cifrado, iv)\n",
    "    else:\n",
    "        cipher = AES.new(y, modo_cifrado)\n",
    "        iv = None\n",
    "\n",
    "    datos_encriptados = cipher.encrypt(pad(bytes_de_la_imagen, AES.block_size))\n",
    "\n",
    "    tempLargo = len(datos_encriptados)\n",
    "    new_alto = math.ceil(tempLargo / (3 * ancho))\n",
    "    if new_alto * ancho * 3 > tempLargo:\n",
    "        datos_encriptados += b'\\x00' * (new_alto * ancho * 3 - tempLargo)\n",
    "\n",
    "    return Image.fromarray(np.frombuffer(datos_encriptados, dtype=np.uint8).reshape((new_alto, ancho, 3)), 'RGB')\n",
    "\n",
    "def decrypt_image(x, y, modo_cifrado, tamano, iv=None):\n",
    "    if modo_cifrado == AES.MODE_CBC and iv is not None:\n",
    "        cipher = AES.new(y, modo_cifrado, iv)\n",
    "    else:\n",
    "        cipher = AES.new(y, modo_cifrado)\n",
    "\n",
    "    return Image.frombytes(\"RGB\", tamano, unpad(cipher.decrypt(x), AES.block_size))\n",
    "\n",
    "def encrypt_image_data(image_path, key, mode=AES.MODE_CBC):\n",
    "    img = Image.open(image_path).convert(\"RGB\")\n",
    "    bytes_de_la_imagen = img.tobytes()\n",
    "\n",
    "    if mode == AES.MODE_CBC:\n",
    "        iv = get_random_bytes(AES.block_size)\n",
    "        cipher = AES.new(key, mode, iv)\n",
    "    else:\n",
    "        cipher = AES.new(key, mode)\n",
    "        iv = None\n",
    "\n",
    "    datos_encriptados = cipher.encrypt(pad(bytes_de_la_imagen, AES.block_size))\n",
    "\n",
    "    return datos_encriptados, iv, img.size\n"
   ]
  },
  {
   "cell_type": "code",
   "execution_count": 293,
   "metadata": {},
   "outputs": [],
   "source": [
    "image_path = \"foto1.jpeg\"\n",
    "key = get_random_bytes(32)"
   ]
  },
  {
   "cell_type": "code",
   "execution_count": 294,
   "metadata": {},
   "outputs": [],
   "source": [
    "encrypted_img = encrypt_image(image_path, key, AES.MODE_CBC)\n",
    "encrypted_img.save(\"encrypted_image.png\")\n",
    "\n",
    "encrypted_data, iv, original_size = encrypt_image_data(image_path, key, AES.MODE_CBC)"
   ]
  },
  {
   "cell_type": "code",
   "execution_count": 295,
   "metadata": {},
   "outputs": [],
   "source": [
    "decrypted_img = decrypt_image(encrypted_data, key, AES.MODE_CBC, original_size, iv)\n",
    "decrypted_img.save(\"decrypted_image.jpg\")\n"
   ]
  }
 ],
 "metadata": {
  "kernelspec": {
   "display_name": "Python 3",
   "language": "python",
   "name": "python3"
  },
  "language_info": {
   "codemirror_mode": {
    "name": "ipython",
    "version": 3
   },
   "file_extension": ".py",
   "mimetype": "text/x-python",
   "name": "python",
   "nbconvert_exporter": "python",
   "pygments_lexer": "ipython3",
   "version": "3.10.5"
  }
 },
 "nbformat": 4,
 "nbformat_minor": 2
}
